{
  "nbformat": 4,
  "nbformat_minor": 0,
  "metadata": {
    "colab": {
      "name": "Projeto Final (UFPB) Aprendizagem de Máquina.ipynb",
      "provenance": [],
      "authorship_tag": "ABX9TyOBACK/ip3U2MshDRbdYhQ3",
      "include_colab_link": true
    },
    "kernelspec": {
      "name": "python3",
      "display_name": "Python 3"
    }
  },
  "cells": [
    {
      "cell_type": "markdown",
      "metadata": {
        "id": "view-in-github",
        "colab_type": "text"
      },
      "source": [
        "<a href=\"https://colab.research.google.com/github/0joazz/0joazz/blob/master/Projeto_Final_(UFPB)_Aprendizagem_de_M%C3%A1quina.ipynb\" target=\"_parent\"><img src=\"https://colab.research.google.com/assets/colab-badge.svg\" alt=\"Open In Colab\"/></a>"
      ]
    },
    {
      "cell_type": "code",
      "metadata": {
        "colab": {
          "base_uri": "https://localhost:8080/"
        },
        "id": "ZxBLjRTa6Q0h",
        "outputId": "33d1e877-a238-469f-a9c7-d8d87624b7f6"
      },
      "source": [
        "# Loads R environment\n",
        "%load_ext rpy2.ipython"
      ],
      "execution_count": 1,
      "outputs": [
        {
          "output_type": "stream",
          "text": [
            "/usr/local/lib/python3.6/dist-packages/rpy2/robjects/pandas2ri.py:14: FutureWarning: pandas.core.index is deprecated and will be removed in a future version.  The public classes are available in the top-level namespace.\n",
            "  from pandas.core.index import Index as PandasIndex\n",
            "/usr/local/lib/python3.6/dist-packages/rpy2/robjects/pandas2ri.py:34: UserWarning: pandas >= 1.0 is not supported.\n",
            "  warnings.warn('pandas >= 1.0 is not supported.')\n"
          ],
          "name": "stderr"
        }
      ]
    },
    {
      "cell_type": "markdown",
      "metadata": {
        "id": "xmKu3v8q6rq8"
      },
      "source": [
        "Para rodar uma célula com código em R, utilizar `%%R` na célula correspondente."
      ]
    },
    {
      "cell_type": "code",
      "metadata": {
        "colab": {
          "base_uri": "https://localhost:8080/"
        },
        "id": "XbA9lAfF69UI",
        "outputId": "f2606d02-6ee1-486b-fa6c-58b00d018901"
      },
      "source": [
        "%%R\n",
        "\n",
        "a <- c(1, 2, 3)\n",
        "print(a)"
      ],
      "execution_count": 3,
      "outputs": [
        {
          "output_type": "stream",
          "text": [
            "[1] 1 2 3\n"
          ],
          "name": "stdout"
        }
      ]
    },
    {
      "cell_type": "markdown",
      "metadata": {
        "id": "SMzJ60RO7JJE"
      },
      "source": [
        "###Estatística Descritiva sobre o dataset Fetal Health"
      ]
    },
    {
      "cell_type": "code",
      "metadata": {
        "colab": {
          "base_uri": "https://localhost:8080/"
        },
        "id": "bUoboAuN7PcI",
        "outputId": "6efe1a1b-d8ba-4155-a2e8-5dc116545b43"
      },
      "source": [
        "%%R\n",
        "\n",
        "library('tidyverse')\n",
        "library('dplyr')\n",
        "\n",
        "data = read.csv(\"C:/Users/ferre/Desktop/fetal_health.csv\")\n",
        "\n",
        "# first 6 observations\n",
        "head(data)\n",
        "\n",
        "# structure of the dataset\n",
        "str(data)\n",
        "\n",
        "# min, 1st and 3rd quartiles, median, mean, max: for all numeric variables\n",
        "summary(data)\n"
      ],
      "execution_count": 6,
      "outputs": [
        {
          "output_type": "stream",
          "text": [
            "R[write to console]: ── Attaching packages ─────────────────────────────────────── tidyverse 1.3.0 ──\n",
            "\n",
            "R[write to console]: ✔ ggplot2 3.3.2     ✔ purrr   0.3.4\n",
            "✔ tibble  3.0.4     ✔ dplyr   1.0.2\n",
            "✔ tidyr   1.1.2     ✔ stringr 1.4.0\n",
            "✔ readr   1.4.0     ✔ forcats 0.5.0\n",
            "\n",
            "R[write to console]: ── Conflicts ────────────────────────────────────────── tidyverse_conflicts() ──\n",
            "✖ dplyr::filter() masks stats::filter()\n",
            "✖ dplyr::lag()    masks stats::lag()\n",
            "\n",
            "R[write to console]: Error in rm(ls = list()) : ... must contain names or character strings\n",
            "Calls: <Anonymous> -> <Anonymous> -> withVisible -> rm\n",
            "\n"
          ],
          "name": "stderr"
        },
        {
          "output_type": "stream",
          "text": [
            "\n",
            "Error in rm(ls = list()) : ... must contain names or character strings\n",
            "Calls: <Anonymous> -> <Anonymous> -> withVisible -> rm\n"
          ],
          "name": "stdout"
        }
      ]
    },
    {
      "cell_type": "code",
      "metadata": {
        "id": "6dErlcIu8xIj"
      },
      "source": [
        "# target variable\n",
        "target = data$fetal_health\n",
        "\n",
        "# columns\n",
        "columns = colnames(data)[-length(data)]"
      ],
      "execution_count": null,
      "outputs": []
    },
    {
      "cell_type": "code",
      "metadata": {
        "id": "4nBHhrh_8ttq"
      },
      "source": [
        "%%R\n",
        "\n",
        "# descriptive statistics for each column\n",
        "statistics <- data.frame(matrix(nrow=12, ncol=23))\n",
        "statistics[1,1] = \"STATISTIC\"\n",
        "statistics[2:12, 1] = c(\"min\",\"max\",\"mean\",\"mode\",\"1stQuartile\",\n",
        "                        \"median\",\"3rdQuartile\",\"range\",\"interQuartilRange\",\n",
        "                        \"stdDeviation\",\"variance\")\n",
        "for(i in 2:22) {\n",
        "  column = columns[i-1]\n",
        "  statistics[1,i] = column\n",
        "  \n",
        "  occurrencies <- table(data[[column]])\n",
        "  sort(occurrencies, decreasing=TRUE)\n",
        "  mode = occurrencies[1]\n",
        "\n",
        "  statistics[2,i] = min(data[[column]])\n",
        "  statistics[3,i] = max(data[[column]])\n",
        "  statistics[4,i] = mean(data[[column]])\n",
        "  statistics[5,i] = mode\n",
        "  statistics[6,i] = quantile(data[[column]], 0.25)\n",
        "  statistics[7,i] = median(data[[column]])\n",
        "  statistics[8,i] = quantile(data[[column]], 0.75)\n",
        "  statistics[9,i] = max(data[[column]]) - min(data[[column]])\n",
        "  statistics[10,i] = IQR(data[[column]])\n",
        "  statistics[11,i] = sd(data[[column]])\n",
        "  statistics[12,i] = var(data[[column]])\n",
        "}"
      ],
      "execution_count": null,
      "outputs": []
    },
    {
      "cell_type": "code",
      "metadata": {
        "id": "Q-uc_oXQ82xc"
      },
      "source": [
        "%%R\n",
        "\n",
        "# correlation matrix (Pearson)\n",
        "pearson_corr_matrix = data.frame(round(cor(data), digits=4))\n",
        "# correlation matrix (Spearman)\n",
        "spearman_corr_matrix = data.frame(round(cor(data, method='spearman'), digits=4))"
      ],
      "execution_count": null,
      "outputs": []
    }
  ]
}